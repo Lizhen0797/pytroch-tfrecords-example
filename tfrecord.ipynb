{
 "cells": [
  {
   "cell_type": "code",
   "execution_count": 75,
   "metadata": {},
   "outputs": [],
   "source": [
    "import torch\n",
    "from tfrecord.torch.dataset import MultiTFRecordDataset\n",
    "import numpy as np"
   ]
  },
  {
   "cell_type": "markdown",
   "metadata": {},
   "source": [
    "# A Demo of MultiTFRecords\n",
    "the tfrecords' compression_type is None_"
   ]
  },
  {
   "cell_type": "code",
   "execution_count": 124,
   "metadata": {},
   "outputs": [],
   "source": [
    "tfrecord_pattern = \"/data/lizhen/MORANDRE_NEW/TEST/{}.tfrecords\"\n",
    "index_pattern = \"/data/lizhen/MORANDRE_NEW/TEST/{}.index\"\n",
    "description = {\n",
    "    \"EHR_TS\":\"float\", \"READ_LABEL\":\"int\"\n",
    "}\n",
    "'''\n",
    "Key\n",
    "the key of this dictionary is used to format the tfrecords path\n",
    "in this example, there two tfrecords will be parse: /data/lizhen/MORANDRE_NEW/TEST/MORANDRE-TEST-0.tfrecords and \n",
    "/data/lizhen/MORANDRE_NEW/TEST/MORANDRE-TEST-1.tfrecords\n",
    "\n",
    "Value\n",
    "the value of this dictionary is how many the samples will be take from each tfrecords\n",
    "in this example, if the batch_size is 32, these 16 samples from MORANDRE-TEST-0.tfrecords \n",
    "and 16 samples from  MORANDRE-TEST-1.tfrecords\n",
    "'''\n",
    "split = {\n",
    "    \"MORANDRE-TEST-0\":0.5,\n",
    "    \"MORANDRE-TEST-1\":0.5\n",
    "}\n",
    "\n",
    "def transform_data_to_input(features):\n",
    "    # get BGR image from bytes\n",
    "    features[\"EHR_TS\"] = np.reshape(features[\"EHR_TS\"],(-1,3294))[-45:,]\n",
    "    return features[\"EHR_TS\"], features[\"READ_LABEL\"]\n",
    "\n",
    "dataset = MultiTFRecordDataset(tfrecord_pattern, index_pattern, split, description, transform = transform_data_to_input, infinite=False, shuffle_queue_size=1024)\n",
    "loader = torch.utils.data.DataLoader(dataset, batch_size=128)"
   ]
  },
  {
   "cell_type": "markdown",
   "metadata": {},
   "source": [
    "# A Demo of MultiTFRecords\n",
    "the tfrecords' compression_type is GZIP_"
   ]
  },
  {
   "cell_type": "code",
   "execution_count": 104,
   "metadata": {},
   "outputs": [],
   "source": [
    "tfrecord_pattern = \"/data/lizhen/MORANDRE_5K/{}.tfrecords.gz\"\n",
    "index_pattern = None\n",
    "description = {\n",
    "    \"EHR_TS\":\"float\", \"READ_LABEL\":\"int\"\n",
    "}\n",
    "split = {\n",
    "    \"MORANDRE-0\":0.5,\n",
    "    \"MORANDRE-0\":0.5\n",
    "}\n",
    "dataset = MultiTFRecordDataset(tfrecord_pattern, index_pattern, split, description, compression_type='gzip')\n",
    "loader = torch.utils.data.DataLoader(dataset, batch_size=32)\n",
    "\n",
    "data = next(iter(loader))"
   ]
  },
  {
   "cell_type": "code",
   "execution_count": null,
   "metadata": {},
   "outputs": [],
   "source": []
  }
 ],
 "metadata": {
  "kernelspec": {
   "display_name": "Python 3",
   "language": "python",
   "name": "python3"
  },
  "language_info": {
   "codemirror_mode": {
    "name": "ipython",
    "version": 3
   },
   "file_extension": ".py",
   "mimetype": "text/x-python",
   "name": "python",
   "nbconvert_exporter": "python",
   "pygments_lexer": "ipython3",
   "version": "3.7.5"
  },
  "pycharm": {
   "stem_cell": {
    "cell_type": "raw",
    "source": [],
    "metadata": {
     "collapsed": false
    }
   }
  }
 },
 "nbformat": 4,
 "nbformat_minor": 4
}